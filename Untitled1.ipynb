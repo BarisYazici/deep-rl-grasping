{
 "cells": [
  {
   "cell_type": "code",
   "execution_count": 1,
   "id": "4aa9c9d0",
   "metadata": {},
   "outputs": [],
   "source": [
    "import manipulation_main\n",
    "import pybullet as p\n",
    "import gym\n"
   ]
  },
  {
   "cell_type": "code",
   "execution_count": 2,
   "id": "2bc15323",
   "metadata": {},
   "outputs": [
    {
     "name": "stderr",
     "output_type": "stream",
     "text": [
      "/home/msrm/anaconda3/envs/deepGrasp/lib/python3.6/site-packages/tensorflow/python/framework/dtypes.py:516: FutureWarning: Passing (type, 1) or '1type' as a synonym of type is deprecated; in a future version of numpy, it will be understood as (type, (1,)) / '(1,)type'.\n",
      "  _np_qint8 = np.dtype([(\"qint8\", np.int8, 1)])\n",
      "/home/msrm/anaconda3/envs/deepGrasp/lib/python3.6/site-packages/tensorflow/python/framework/dtypes.py:517: FutureWarning: Passing (type, 1) or '1type' as a synonym of type is deprecated; in a future version of numpy, it will be understood as (type, (1,)) / '(1,)type'.\n",
      "  _np_quint8 = np.dtype([(\"quint8\", np.uint8, 1)])\n",
      "/home/msrm/anaconda3/envs/deepGrasp/lib/python3.6/site-packages/tensorflow/python/framework/dtypes.py:518: FutureWarning: Passing (type, 1) or '1type' as a synonym of type is deprecated; in a future version of numpy, it will be understood as (type, (1,)) / '(1,)type'.\n",
      "  _np_qint16 = np.dtype([(\"qint16\", np.int16, 1)])\n",
      "/home/msrm/anaconda3/envs/deepGrasp/lib/python3.6/site-packages/tensorflow/python/framework/dtypes.py:519: FutureWarning: Passing (type, 1) or '1type' as a synonym of type is deprecated; in a future version of numpy, it will be understood as (type, (1,)) / '(1,)type'.\n",
      "  _np_quint16 = np.dtype([(\"quint16\", np.uint16, 1)])\n",
      "/home/msrm/anaconda3/envs/deepGrasp/lib/python3.6/site-packages/tensorflow/python/framework/dtypes.py:520: FutureWarning: Passing (type, 1) or '1type' as a synonym of type is deprecated; in a future version of numpy, it will be understood as (type, (1,)) / '(1,)type'.\n",
      "  _np_qint32 = np.dtype([(\"qint32\", np.int32, 1)])\n",
      "/home/msrm/anaconda3/envs/deepGrasp/lib/python3.6/site-packages/tensorflow/python/framework/dtypes.py:525: FutureWarning: Passing (type, 1) or '1type' as a synonym of type is deprecated; in a future version of numpy, it will be understood as (type, (1,)) / '(1,)type'.\n",
      "  np_resource = np.dtype([(\"resource\", np.ubyte, 1)])\n",
      "/home/msrm/anaconda3/envs/deepGrasp/lib/python3.6/site-packages/tensorboard/compat/tensorflow_stub/dtypes.py:541: FutureWarning: Passing (type, 1) or '1type' as a synonym of type is deprecated; in a future version of numpy, it will be understood as (type, (1,)) / '(1,)type'.\n",
      "  _np_qint8 = np.dtype([(\"qint8\", np.int8, 1)])\n",
      "/home/msrm/anaconda3/envs/deepGrasp/lib/python3.6/site-packages/tensorboard/compat/tensorflow_stub/dtypes.py:542: FutureWarning: Passing (type, 1) or '1type' as a synonym of type is deprecated; in a future version of numpy, it will be understood as (type, (1,)) / '(1,)type'.\n",
      "  _np_quint8 = np.dtype([(\"quint8\", np.uint8, 1)])\n",
      "/home/msrm/anaconda3/envs/deepGrasp/lib/python3.6/site-packages/tensorboard/compat/tensorflow_stub/dtypes.py:543: FutureWarning: Passing (type, 1) or '1type' as a synonym of type is deprecated; in a future version of numpy, it will be understood as (type, (1,)) / '(1,)type'.\n",
      "  _np_qint16 = np.dtype([(\"qint16\", np.int16, 1)])\n",
      "/home/msrm/anaconda3/envs/deepGrasp/lib/python3.6/site-packages/tensorboard/compat/tensorflow_stub/dtypes.py:544: FutureWarning: Passing (type, 1) or '1type' as a synonym of type is deprecated; in a future version of numpy, it will be understood as (type, (1,)) / '(1,)type'.\n",
      "  _np_quint16 = np.dtype([(\"quint16\", np.uint16, 1)])\n",
      "/home/msrm/anaconda3/envs/deepGrasp/lib/python3.6/site-packages/tensorboard/compat/tensorflow_stub/dtypes.py:545: FutureWarning: Passing (type, 1) or '1type' as a synonym of type is deprecated; in a future version of numpy, it will be understood as (type, (1,)) / '(1,)type'.\n",
      "  _np_qint32 = np.dtype([(\"qint32\", np.int32, 1)])\n",
      "/home/msrm/anaconda3/envs/deepGrasp/lib/python3.6/site-packages/tensorboard/compat/tensorflow_stub/dtypes.py:550: FutureWarning: Passing (type, 1) or '1type' as a synonym of type is deprecated; in a future version of numpy, it will be understood as (type, (1,)) / '(1,)type'.\n",
      "  np_resource = np.dtype([(\"resource\", np.ubyte, 1)])\n",
      "Using TensorFlow backend.\n"
     ]
    },
    {
     "name": "stdout",
     "output_type": "stream",
     "text": [
      "dataset random_urdfs\n"
     ]
    },
    {
     "name": "stderr",
     "output_type": "stream",
     "text": [
      "/home/msrm/deep-rl-grasping/manipulation_main/common/io_utils.py:41: YAMLLoadWarning: calling yaml.load() without Loader=... is deprecated, as the default Loader is unsafe. Please read https://msg.pyyaml.org/load for full details.\n",
      "  config = yaml.load(f)\n"
     ]
    }
   ],
   "source": [
    "env = gym.make(\"gripper-env-v0\", config=\"config/gripper_grasp.yaml\")"
   ]
  },
  {
   "cell_type": "code",
   "execution_count": 3,
   "id": "9f9e3dfc",
   "metadata": {
    "scrolled": true
   },
   "outputs": [
    {
     "name": "stdout",
     "output_type": "stream",
     "text": [
      "reseted the model \n"
     ]
    },
    {
     "data": {
      "text/plain": [
       "array([[[0.22089496, 0.99453531],\n",
       "        [0.22089845, 0.        ],\n",
       "        [0.2209015 , 0.        ],\n",
       "        ...,\n",
       "        [0.22109218, 0.        ],\n",
       "        [0.22109538, 0.        ],\n",
       "        [0.22109874, 0.        ]],\n",
       "\n",
       "       [[0.22155583, 0.        ],\n",
       "        [0.22155935, 0.        ],\n",
       "        [0.22156256, 0.        ],\n",
       "        ...,\n",
       "        [0.22175437, 0.        ],\n",
       "        [0.22175761, 0.        ],\n",
       "        [0.22176082, 0.        ]],\n",
       "\n",
       "       [[0.22222066, 0.        ],\n",
       "        [0.22222376, 0.        ],\n",
       "        [0.22222744, 0.        ],\n",
       "        ...,\n",
       "        [0.22242041, 0.        ],\n",
       "        [0.22242364, 0.        ],\n",
       "        [0.22242704, 0.        ]],\n",
       "\n",
       "       ...,\n",
       "\n",
       "       [[0.09930008, 0.        ],\n",
       "        [0.10024552, 0.        ],\n",
       "        [0.10170947, 0.        ],\n",
       "        ...,\n",
       "        [0.2333968 , 0.        ],\n",
       "        [0.23690459, 0.        ],\n",
       "        [0.1243097 , 0.        ]],\n",
       "\n",
       "       [[0.09723797, 0.        ],\n",
       "        [0.09715544, 0.        ],\n",
       "        [0.09715005, 0.        ],\n",
       "        ...,\n",
       "        [0.23146686, 0.        ],\n",
       "        [0.23433158, 0.        ],\n",
       "        [0.12439357, 0.        ]],\n",
       "\n",
       "       [[0.09516976, 0.        ],\n",
       "        [0.09519036, 0.        ],\n",
       "        [0.09521097, 0.        ],\n",
       "        ...,\n",
       "        [0.23088869, 0.        ],\n",
       "        [0.23186192, 0.        ],\n",
       "        [0.23561652, 0.        ]]])"
      ]
     },
     "execution_count": 3,
     "metadata": {},
     "output_type": "execute_result"
    }
   ],
   "source": [
    "env.reset()"
   ]
  },
  {
   "cell_type": "code",
   "execution_count": 10,
   "id": "9735a32a",
   "metadata": {
    "scrolled": false
   },
   "outputs": [
    {
     "name": "stdout",
     "output_type": "stream",
     "text": [
      "REAL ACTION IN STEP FUNC:  [ 0.0228631   0.37957904 -0.471543   -0.40826812  0.18707491]\n",
      "Is this pos correct:  (0.017736113889525437, -0.0198622317109093, 0.14551839198868025)\n",
      "Is this orn correct:  (0.017736113889525437, -0.0198622317109093, 0.14551839198868025)\n",
      "yaw from the orn 0.0\n",
      "Target POS:   [ 0.01842201 -0.0312496   0.15966468]\n",
      "Target orn:   [ 9.99531241e-01  3.06153247e-02 -1.87464797e-18  6.12036368e-17]\n",
      "STATUS: Status.RUNNING\n"
     ]
    },
    {
     "data": {
      "text/plain": [
       "(array([[[0.22844793, 0.00042527],\n",
       "         [0.22845103, 0.        ],\n",
       "         [0.22845446, 0.        ],\n",
       "         ...,\n",
       "         [0.22865139, 0.        ],\n",
       "         [0.22865467, 0.        ],\n",
       "         [0.22865824, 0.        ]],\n",
       " \n",
       "        [[0.22913104, 0.        ],\n",
       "         [0.22913434, 0.        ],\n",
       "         [0.22913778, 0.        ],\n",
       "         ...,\n",
       "         [0.22933604, 0.        ],\n",
       "         [0.22933933, 0.        ],\n",
       "         [0.22934294, 0.        ]],\n",
       " \n",
       "        [[0.22981858, 0.        ],\n",
       "         [0.22982204, 0.        ],\n",
       "         [0.2298255 , 0.        ],\n",
       "         ...,\n",
       "         [0.23002496, 0.        ],\n",
       "         [0.23002844, 0.        ],\n",
       "         [0.23003174, 0.        ]],\n",
       " \n",
       "        ...,\n",
       " \n",
       "        [[0.27926093, 0.        ],\n",
       "         [0.27926606, 0.        ],\n",
       "         [0.27927095, 0.        ],\n",
       "         ...,\n",
       "         [0.25249892, 0.        ],\n",
       "         [0.2795704 , 0.        ],\n",
       "         [0.27957577, 0.        ]],\n",
       " \n",
       "        [[0.28028312, 0.        ],\n",
       "         [0.28028804, 0.        ],\n",
       "         [0.28029296, 0.        ],\n",
       "         ...,\n",
       "         [0.25555369, 0.        ],\n",
       "         [0.28059417, 0.        ],\n",
       "         [0.28060001, 0.        ]],\n",
       " \n",
       "        [[0.28131282, 0.        ],\n",
       "         [0.28131729, 0.        ],\n",
       "         [0.28132227, 0.        ],\n",
       "         ...,\n",
       "         [0.09338977, 0.        ],\n",
       "         [0.28162614, 0.        ],\n",
       "         [0.28163183, 0.        ]]]),\n",
       " -200.0,\n",
       " False,\n",
       " {'is_success': False,\n",
       "  'episode_step': 2,\n",
       "  'episode_rewards': array([-200., -200.,    0.,    0.,    0.,    0.,    0.,    0.,    0.,\n",
       "            0.,    0.,    0.,    0.,    0.,    0.,    0.,    0.,    0.,\n",
       "            0.,    0.,    0.,    0.,    0.,    0.,    0.,    0.,    0.,\n",
       "            0.,    0.,    0.,    0.,    0.,    0.,    0.,    0.,    0.,\n",
       "            0.,    0.,    0.,    0.,    0.,    0.,    0.,    0.,    0.,\n",
       "            0.,    0.,    0.,    0.,    0.,    0.,    0.,    0.,    0.,\n",
       "            0.,    0.,    0.,    0.,    0.,    0.,    0.,    0.,    0.,\n",
       "            0.,    0.,    0.,    0.,    0.,    0.,    0.,    0.,    0.,\n",
       "            0.,    0.,    0.,    0.,    0.,    0.,    0.,    0.,    0.,\n",
       "            0.,    0.,    0.,    0.,    0.,    0.,    0.,    0.,    0.,\n",
       "            0.,    0.,    0.,    0.,    0.,    0.,    0.,    0.,    0.,\n",
       "            0.,    0.,    0.,    0.,    0.,    0.,    0.,    0.,    0.,\n",
       "            0.,    0.,    0.,    0.,    0.,    0.,    0.,    0.,    0.,\n",
       "            0.,    0.,    0.,    0.,    0.,    0.,    0.,    0.,    0.,\n",
       "            0.,    0.,    0.,    0.,    0.,    0.,    0.,    0.,    0.,\n",
       "            0.,    0.,    0.,    0.,    0.,    0.,    0.,    0.,    0.,\n",
       "            0.,    0.,    0.,    0.,    0.,    0.,    0.,    0.,    0.,\n",
       "            0.,    0.,    0.,    0.,    0.,    0.,    0.,    0.,    0.,\n",
       "            0.,    0.,    0.,    0.,    0.,    0.,    0.,    0.,    0.,\n",
       "            0.,    0.,    0.,    0.,    0.,    0.,    0.,    0.,    0.,\n",
       "            0.,    0.,    0.,    0.,    0.,    0.,    0.,    0.,    0.,\n",
       "            0.,    0.,    0.,    0.,    0.,    0.,    0.,    0.,    0.,\n",
       "            0.,    0.]),\n",
       "  'status': <Status.RUNNING: 0>})"
      ]
     },
     "execution_count": 10,
     "metadata": {},
     "output_type": "execute_result"
    }
   ],
   "source": [
    "env.step(env.action_space.sample())"
   ]
  },
  {
   "cell_type": "code",
   "execution_count": 30,
   "id": "ca9c9e6d",
   "metadata": {
    "scrolled": true
   },
   "outputs": [
    {
     "data": {
      "text/plain": [
       "0.00054061415147882"
      ]
     },
     "execution_count": 30,
     "metadata": {},
     "output_type": "execute_result"
    }
   ],
   "source": [
    "env.get_gripper_width()"
   ]
  },
  {
   "cell_type": "code",
   "execution_count": 27,
   "id": "b7881662",
   "metadata": {},
   "outputs": [
    {
     "name": "stdout",
     "output_type": "stream",
     "text": [
      "0.039732447484199795 0.03972330668866864\n"
     ]
    }
   ],
   "source": [
    "pos_left, orn, _, _ = p.getJointState(env.robot_id, 6)\n",
    "pos_rigt, orn, _, _ = p.getJointState(env.robot_id, 7)\n",
    "\n",
    "\n",
    "print(pos_left, pos_rigt)"
   ]
  },
  {
   "cell_type": "code",
   "execution_count": 17,
   "id": "d0a04583",
   "metadata": {},
   "outputs": [
    {
     "data": {
      "text/plain": [
       "False"
      ]
     },
     "execution_count": 17,
     "metadata": {},
     "output_type": "execute_result"
    }
   ],
   "source": [
    "env.object_detected()"
   ]
  },
  {
   "cell_type": "code",
   "execution_count": 26,
   "id": "8f888e86",
   "metadata": {},
   "outputs": [],
   "source": [
    "env.open_gripper()"
   ]
  },
  {
   "cell_type": "code",
   "execution_count": 29,
   "id": "abeb78b4",
   "metadata": {},
   "outputs": [],
   "source": [
    "env.close_gripper()"
   ]
  }
 ],
 "metadata": {
  "kernelspec": {
   "display_name": "Python 3",
   "language": "python",
   "name": "python3"
  },
  "language_info": {
   "codemirror_mode": {
    "name": "ipython",
    "version": 3
   },
   "file_extension": ".py",
   "mimetype": "text/x-python",
   "name": "python",
   "nbconvert_exporter": "python",
   "pygments_lexer": "ipython3",
   "version": "3.6.13"
  }
 },
 "nbformat": 4,
 "nbformat_minor": 5
}
